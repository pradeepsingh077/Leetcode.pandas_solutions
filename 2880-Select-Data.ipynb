import pandas as pd

def selectData(students: pd.DataFrame) -> pd.DataFrame:
    return pd.DataFrame(student_id=101)[['name','age']]
    
