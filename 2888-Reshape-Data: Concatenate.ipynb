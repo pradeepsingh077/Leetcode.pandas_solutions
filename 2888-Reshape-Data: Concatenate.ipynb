import pandas as pd

def concatenateTables(df1: pd.DataFrame, df2: pd.DataFrame) -> pd.DataFrame:
    df = [df1 , df2]
    table = pd.concat(df)
    return table
